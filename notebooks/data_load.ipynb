{
 "cells": [
  {
   "cell_type": "code",
   "execution_count": 106,
   "metadata": {},
   "outputs": [],
   "source": [
    "import numpy as np\n",
    "import scipy.sparse as ssp\n",
    "from tqdm import tqdm"
   ]
  },
  {
   "cell_type": "code",
   "execution_count": 3,
   "metadata": {},
   "outputs": [],
   "source": [
    "data_path = \"../detection/data/acc_email.npy\""
   ]
  },
  {
   "cell_type": "code",
   "execution_count": 25,
   "metadata": {},
   "outputs": [
    {
     "data": {
      "text/plain": [
       "(20,)"
      ]
     },
     "execution_count": 25,
     "metadata": {},
     "output_type": "execute_result"
    }
   ],
   "source": [
    "net = np.load(data_path, allow_pickle=True)\n",
    "net.shape"
   ]
  },
  {
   "cell_type": "code",
   "execution_count": 27,
   "metadata": {},
   "outputs": [
    {
     "data": {
      "text/plain": [
       "<2029x2029 sparse matrix of type '<class 'numpy.float64'>'\n",
       "\twith 416 stored elements in Compressed Sparse Row format>"
      ]
     },
     "execution_count": 27,
     "metadata": {},
     "output_type": "execute_result"
    }
   ],
   "source": [
    "net[0]"
   ]
  },
  {
   "cell_type": "code",
   "execution_count": 21,
   "metadata": {},
   "outputs": [],
   "source": [
    "f = np.load(\"../detection/data/email0.01.npz\")\n",
    "\n",
    "train_pos_id, train_neg_id, test_pos_id, test_neg_id = (\n",
    "    f[\"train_pos_id\"],\n",
    "    f[\"train_neg_id\"],\n",
    "    f[\"test_pos_id\"],\n",
    "    f[\"test_neg_id\"],\n",
    ")\n",
    "\n",
    "train_pos, train_neg, test_pos, test_neg = (\n",
    "    f[\"train_pos\"],\n",
    "    f[\"train_neg\"],\n",
    "    f[\"test_pos\"],\n",
    "    f[\"test_neg\"],\n",
    ")"
   ]
  },
  {
   "cell_type": "code",
   "execution_count": 19,
   "metadata": {},
   "outputs": [
    {
     "data": {
      "text/plain": [
       "((1546,), (1546,), (1227,), (10,))"
      ]
     },
     "execution_count": 19,
     "metadata": {},
     "output_type": "execute_result"
    }
   ],
   "source": [
    "train_pos_id.shape, train_neg_id.shape, test_pos_id.shape, test_neg_id.shape"
   ]
  },
  {
   "cell_type": "code",
   "execution_count": 24,
   "metadata": {},
   "outputs": [
    {
     "data": {
      "text/plain": [
       "((2, 1546), (2, 1546), (2, 1227), (2, 10))"
      ]
     },
     "execution_count": 24,
     "metadata": {},
     "output_type": "execute_result"
    }
   ],
   "source": [
    "train_pos.shape, train_neg.shape, test_pos.shape, test_neg.shape"
   ]
  },
  {
   "cell_type": "code",
   "execution_count": 29,
   "metadata": {},
   "outputs": [
    {
     "data": {
      "text/plain": [
       "array([[ 330,  998,  477, ..., 1679, 1679, 1585],\n",
       "       [ 546, 1257, 1668, ..., 1684, 1791, 1679]])"
      ]
     },
     "execution_count": 29,
     "metadata": {},
     "output_type": "execute_result"
    }
   ],
   "source": [
    "train_pos"
   ]
  },
  {
   "cell_type": "code",
   "execution_count": 30,
   "metadata": {},
   "outputs": [
    {
     "data": {
      "text/plain": [
       "array([ 330,  998,  477, ..., 1679, 1679, 1585])"
      ]
     },
     "execution_count": 30,
     "metadata": {},
     "output_type": "execute_result"
    }
   ],
   "source": [
    "train_pos[0]"
   ]
  },
  {
   "cell_type": "code",
   "execution_count": 31,
   "metadata": {},
   "outputs": [
    {
     "data": {
      "text/plain": [
       "array([ 546, 1257, 1668, ..., 1684, 1791, 1679])"
      ]
     },
     "execution_count": 31,
     "metadata": {},
     "output_type": "execute_result"
    }
   ],
   "source": [
    "train_pos[1]"
   ]
  },
  {
   "cell_type": "code",
   "execution_count": 35,
   "metadata": {},
   "outputs": [
    {
     "data": {
      "text/plain": [
       "(array([ 5,  6,  7,  8,  9, 10, 11, 12, 13]), array([15, 16, 17, 18, 19]))"
      ]
     },
     "execution_count": 35,
     "metadata": {},
     "output_type": "execute_result"
    }
   ],
   "source": [
    "np.unique(train_pos_id), np.unique(test_pos_id)"
   ]
  },
  {
   "cell_type": "code",
   "execution_count": 37,
   "metadata": {},
   "outputs": [
    {
     "data": {
      "text/plain": [
       "(array([ 5,  6,  7,  8,  9, 10, 11, 12, 13]), array([15, 16, 17, 18, 19]))"
      ]
     },
     "execution_count": 37,
     "metadata": {},
     "output_type": "execute_result"
    }
   ],
   "source": [
    "np.unique(train_neg_id), np.unique(test_neg_id)"
   ]
  },
  {
   "attachments": {},
   "cell_type": "markdown",
   "metadata": {},
   "source": [
    "# DGraph Preprocessing"
   ]
  },
  {
   "cell_type": "code",
   "execution_count": 94,
   "metadata": {},
   "outputs": [],
   "source": [
    "window_size = 5"
   ]
  },
  {
   "cell_type": "code",
   "execution_count": 40,
   "metadata": {},
   "outputs": [
    {
     "name": "stdout",
     "output_type": "stream",
     "text": [
      "\n",
      "X shape: (3700550, 17),\n",
      "y shape: (3700550,)\n",
      "\n",
      "edge_index shape: (4300999, 2)\n",
      "edge_type shape: (4300999,)\n",
      "edge_timestamp shape: (4300999,)\n",
      "\n",
      "train_mask shape: (857899,)\n",
      "valid_mask shape: (183862,)\n",
      "test_mask shape: (183840,)\n",
      "\n"
     ]
    }
   ],
   "source": [
    "dgraph_data = np.load(\"/Users/jl102430/Documents/study/anomaly_detection/data/dynamic/DGraph/DGraphFin/dgraphfin.npz\")\n",
    "\n",
    "X = dgraph_data[\"x\"]\n",
    "y = dgraph_data[\"y\"]\n",
    "\n",
    "edge_index = dgraph_data[\"edge_index\"]\n",
    "edge_type = dgraph_data[\"edge_type\"]\n",
    "edge_timestamp = dgraph_data[\"edge_timestamp\"]\n",
    "\n",
    "train_mask = dgraph_data[\"train_mask\"]\n",
    "valid_mask = dgraph_data[\"valid_mask\"]\n",
    "test_mask = dgraph_data[\"test_mask\"]\n",
    "\n",
    "print(\n",
    "    f\"\"\"\n",
    "X shape: {X.shape},\n",
    "y shape: {y.shape}\n",
    "\n",
    "edge_index shape: {edge_index.shape}\n",
    "edge_type shape: {edge_type.shape}\n",
    "edge_timestamp shape: {edge_timestamp.shape}\n",
    "\n",
    "train_mask shape: {train_mask.shape}\n",
    "valid_mask shape: {valid_mask.shape}\n",
    "test_mask shape: {test_mask.shape}\n",
    "\"\"\"\n",
    ")"
   ]
  },
  {
   "cell_type": "code",
   "execution_count": 140,
   "metadata": {},
   "outputs": [],
   "source": [
    "def reindex_graph_dataset(\n",
    "    edge_index, node_feature, node_label, edge_type, edge_timestamp, mask\n",
    "):\n",
    "    masked_edge_index = edge_index[mask]\n",
    "    masked_edge_type = edge_type[mask]\n",
    "    masked_edge_timestamp = edge_timestamp[mask] - 1\n",
    "\n",
    "    sorted_index = np.argsort(masked_edge_timestamp)\n",
    "    masked_edge_index = masked_edge_index[sorted_index]\n",
    "    masked_edge_type = masked_edge_type[sorted_index]\n",
    "    masked_edge_timestamp = masked_edge_timestamp[sorted_index]\n",
    "\n",
    "    node_list = np.unique(masked_edge_index.flatten())\n",
    "\n",
    "    reindex_edge_index = np.empty_like(masked_edge_index)\n",
    "    node2id = {n: i for i, n in enumerate(node_list)}\n",
    "\n",
    "    reindex_edge_index[:, 0] = np.array(\n",
    "        list(map(lambda x: node2id[x], masked_edge_index[:, 0]))\n",
    "    )\n",
    "    reindex_edge_index[:, 1] = np.array(\n",
    "        list(map(lambda x: node2id[x], masked_edge_index[:, 1]))\n",
    "    )\n",
    "\n",
    "    masked_node_feature = node_feature[node_list]\n",
    "    masked_node_label = node_label[node_list]\n",
    "\n",
    "    net = []\n",
    "    for ts in tqdm(np.unique(masked_edge_timestamp)):\n",
    "        ts_mask = masked_edge_timestamp == ts\n",
    "        net_edge_index = reindex_edge_index[ts_mask]\n",
    "        net_edge_type = masked_edge_type[ts_mask]\n",
    "\n",
    "        _net = ssp.csc_matrix(\n",
    "            (\n",
    "                np.ones(net_edge_index.shape[0]),\n",
    "                (net_edge_index[:, 0], net_edge_index[:, 1]),\n",
    "            ),\n",
    "            shape=(masked_node_feature.shape[0], masked_node_feature.shape[0]),\n",
    "        )\n",
    "        net.append(_net)\n",
    "    net = np.array(net)\n",
    "\n",
    "    print(\n",
    "        f\"\"\"\n",
    "          reindex_edge_index: {reindex_edge_index.shape}\n",
    "          masked_edge_type: {masked_edge_type.shape}\n",
    "          masked_edge_timestamp: {masked_edge_timestamp.shape}\n",
    "          unique nodes: {np.unique(reindex_edge_index.flatten()).shape}\n",
    "          masked_node_feature: {masked_node_feature.shape}\n",
    "          masked_node_label: {masked_node_label.shape}\n",
    "          net: {net.shape}\n",
    "          \"\"\"\n",
    "    )\n",
    "\n",
    "    return (\n",
    "        reindex_edge_index,\n",
    "        masked_node_feature,\n",
    "        masked_node_label,\n",
    "        masked_edge_type,\n",
    "        masked_edge_timestamp,\n",
    "        net,\n",
    "        node2id,\n",
    "    )"
   ]
  },
  {
   "cell_type": "code",
   "execution_count": 141,
   "metadata": {},
   "outputs": [
    {
     "name": "stderr",
     "output_type": "stream",
     "text": [
      "100%|██████████| 821/821 [00:16<00:00, 48.66it/s]\n"
     ]
    },
    {
     "name": "stdout",
     "output_type": "stream",
     "text": [
      "\n",
      "          reindex_edge_index: (857899, 2)\n",
      "          masked_edge_type: (857899,)\n",
      "          masked_edge_timestamp: (857899,)\n",
      "          unique nodes: (1367190,)\n",
      "          masked_node_feature: (1367190, 17)\n",
      "          masked_node_label: (1367190,)\n",
      "          net: (821,)\n",
      "          \n"
     ]
    }
   ],
   "source": [
    "(\n",
    "    train_edge_index,  #train_pos\n",
    "    train_node_feature,\n",
    "    train_node_label,\n",
    "    train_edge_type,\n",
    "    train_edge_timestamp, # train_pos_id\n",
    "    train_net,\n",
    "    train_node2id,\n",
    ") = reindex_graph_dataset(edge_index, X, y, edge_type, edge_timestamp, train_mask)"
   ]
  },
  {
   "cell_type": "code",
   "execution_count": 159,
   "metadata": {},
   "outputs": [
    {
     "name": "stderr",
     "output_type": "stream",
     "text": [
      "  0%|          | 0/100 [00:00<?, ?it/s]"
     ]
    },
    {
     "name": "stdout",
     "output_type": "stream",
     "text": [
      "857899\n"
     ]
    },
    {
     "name": "stderr",
     "output_type": "stream",
     "text": [
      "  0%|          | 0/100 [02:56<?, ?it/s]\n"
     ]
    }
   ],
   "source": [
    "import random\n",
    "def sample_neg(net, pos):\n",
    "    def sample_neg_ts(_net, pos):\n",
    "        neg = []\n",
    "        num_node = _net.shape[0]\n",
    "        pbar = tqdm(total=100)\n",
    "        while len(neg) < pos.shape[0]:\n",
    "            i = random.randint(0, num_node-1)\n",
    "            j = random.randint(i, num_node-1)\n",
    "            if i < j and _net[i, j] == 0.0:\n",
    "                neg.append([i, j])\n",
    "                # print(len(neg) / pos.shape[0])\n",
    "        pbar.close()\n",
    "        return neg\n",
    "\n",
    "    negs = []\n",
    "    for ts in range(net.shape[0]):\n",
    "        # print(f'Timestamp {ts}')\n",
    "        negs.append(sample_neg_ts(net[ts], pos))\n",
    "    \n",
    "    return np.concatenate(negs, axis=1)\n",
    "        \n",
    "\n",
    "sample_neg(train_net, train_edge_index)"
   ]
  },
  {
   "cell_type": "code",
   "execution_count": 143,
   "metadata": {},
   "outputs": [
    {
     "data": {
      "text/plain": [
       "array([  0,   0,   0, ..., 820, 820, 820])"
      ]
     },
     "execution_count": 143,
     "metadata": {},
     "output_type": "execute_result"
    }
   ],
   "source": [
    "train_edge_timestamp"
   ]
  },
  {
   "cell_type": "code",
   "execution_count": 145,
   "metadata": {},
   "outputs": [
    {
     "data": {
      "text/plain": [
       "(array([[ 651984,  487447],\n",
       "        [ 641818,  553387],\n",
       "        [ 621549,  811894],\n",
       "        ...,\n",
       "        [ 139479,  333886],\n",
       "        [1362734, 1333421],\n",
       "        [1361817,  105163]]),\n",
       " 1.0)"
      ]
     },
     "execution_count": 145,
     "metadata": {},
     "output_type": "execute_result"
    }
   ],
   "source": [
    "train_edge_index, train_net[0][621549, 811894]"
   ]
  },
  {
   "cell_type": "code",
   "execution_count": 115,
   "metadata": {},
   "outputs": [
    {
     "name": "stdout",
     "output_type": "stream",
     "text": [
      "108\n"
     ]
    },
    {
     "data": {
      "text/plain": [
       "(array([175553, 375980]), 1.0)"
      ]
     },
     "execution_count": 115,
     "metadata": {},
     "output_type": "execute_result"
    }
   ],
   "source": [
    "# for ts in range(821):\n",
    "#     if train_net[ts][175553, 375980] == 1.0:\n",
    "#         print(ts)\n",
    "#         break\n",
    "# train_edge_index[0], train_net[ts][175553, 375980]"
   ]
  },
  {
   "cell_type": "code",
   "execution_count": null,
   "metadata": {},
   "outputs": [],
   "source": []
  }
 ],
 "metadata": {
  "kernelspec": {
   "display_name": "pytorch",
   "language": "python",
   "name": "python3"
  },
  "language_info": {
   "codemirror_mode": {
    "name": "ipython",
    "version": 3
   },
   "file_extension": ".py",
   "mimetype": "text/x-python",
   "name": "python",
   "nbconvert_exporter": "python",
   "pygments_lexer": "ipython3",
   "version": "3.7.10"
  },
  "orig_nbformat": 4
 },
 "nbformat": 4,
 "nbformat_minor": 2
}
